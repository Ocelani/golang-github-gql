{
  "nbformat": 4,
  "nbformat_minor": 0,
  "metadata": {
    "colab": {
      "name": "Untitled2.ipynb",
      "provenance": [],
      "collapsed_sections": [],
      "authorship_tag": "ABX9TyOnbCqbrnCiXPVoKnQGANIl",
      "include_colab_link": true
    },
    "kernelspec": {
      "name": "python3",
      "display_name": "Python 3"
    }
  },
  "cells": [
    {
      "cell_type": "markdown",
      "metadata": {
        "id": "view-in-github",
        "colab_type": "text"
      },
      "source": [
        "<a href=\"https://colab.research.google.com/github/Ocelani/golang-github-gql/blob/main/data-analysis.ipynb\" target=\"_parent\"><img src=\"https://colab.research.google.com/assets/colab-badge.svg\" alt=\"Open In Colab\"/></a>"
      ]
    },
    {
      "cell_type": "markdown",
      "metadata": {
        "id": "U0UpVUwjSklV"
      },
      "source": [
        " # Repositórios populares\n",
        " ## Lab de Medição e Experimentação de Software\n",
        "\n",
        "--------\n",
        "\n",
        "\n"
      ]
    },
    {
      "cell_type": "code",
      "metadata": {
        "id": "hgHYP8KCSjbv",
        "outputId": "11d17d86-09c4-4f25-b319-fe7e57b3c432",
        "colab": {
          "base_uri": "https://localhost:8080/",
          "height": 661
        }
      },
      "source": [
        "import pandas as pd\n",
        "import numpy as np\n",
        "import time\n",
        "\n",
        "\n",
        "df = pd.read_csv('/content/data.csv')\n",
        "  \n",
        "df.head(10)"
      ],
      "execution_count": 327,
      "outputs": [
        {
          "output_type": "execute_result",
          "data": {
            "text/html": [
              "<div>\n",
              "<style scoped>\n",
              "    .dataframe tbody tr th:only-of-type {\n",
              "        vertical-align: middle;\n",
              "    }\n",
              "\n",
              "    .dataframe tbody tr th {\n",
              "        vertical-align: top;\n",
              "    }\n",
              "\n",
              "    .dataframe thead th {\n",
              "        text-align: right;\n",
              "    }\n",
              "</style>\n",
              "<table border=\"1\" class=\"dataframe\">\n",
              "  <thead>\n",
              "    <tr style=\"text-align: right;\">\n",
              "      <th></th>\n",
              "      <th>RankID</th>\n",
              "      <th>RepoID</th>\n",
              "      <th>Name</th>\n",
              "      <th>URL</th>\n",
              "      <th>CreatedAt</th>\n",
              "      <th>UpdatedAt</th>\n",
              "      <th>Owner</th>\n",
              "      <th>PrimaryLanguage</th>\n",
              "      <th>Stargazers</th>\n",
              "      <th>IssuesTotal</th>\n",
              "      <th>IssuesClosed</th>\n",
              "      <th>PullRequests</th>\n",
              "    </tr>\n",
              "  </thead>\n",
              "  <tbody>\n",
              "    <tr>\n",
              "      <th>0</th>\n",
              "      <td>1</td>\n",
              "      <td>MDEwOlJlcG9zaXRvcnkyODQ1NzgyMw==</td>\n",
              "      <td>freeCodeCamp</td>\n",
              "      <td>https://github.com/freeCodeCamp/freeCodeCamp</td>\n",
              "      <td>2014-12-24T17:49:19Z</td>\n",
              "      <td>2020-09-26T15:04:34Z</td>\n",
              "      <td>freeCodeCamp</td>\n",
              "      <td>JavaScript</td>\n",
              "      <td>315010</td>\n",
              "      <td>14783</td>\n",
              "      <td>14579</td>\n",
              "      <td>24401</td>\n",
              "    </tr>\n",
              "    <tr>\n",
              "      <th>1</th>\n",
              "      <td>2</td>\n",
              "      <td>MDEwOlJlcG9zaXRvcnkxNzc3MzY1MzM=</td>\n",
              "      <td>996.ICU</td>\n",
              "      <td>https://github.com/996icu/996.ICU</td>\n",
              "      <td>2019-03-26T07:31:14Z</td>\n",
              "      <td>2020-09-26T15:05:04Z</td>\n",
              "      <td>996icu</td>\n",
              "      <td>Rust</td>\n",
              "      <td>251762</td>\n",
              "      <td>0</td>\n",
              "      <td>0</td>\n",
              "      <td>1856</td>\n",
              "    </tr>\n",
              "    <tr>\n",
              "      <th>2</th>\n",
              "      <td>3</td>\n",
              "      <td>MDEwOlJlcG9zaXRvcnkxMTczMDM0Mg==</td>\n",
              "      <td>vue</td>\n",
              "      <td>https://github.com/vuejs/vue</td>\n",
              "      <td>2013-07-29T03:24:51Z</td>\n",
              "      <td>2020-09-26T14:18:27Z</td>\n",
              "      <td>vuejs</td>\n",
              "      <td>JavaScript</td>\n",
              "      <td>172926</td>\n",
              "      <td>9192</td>\n",
              "      <td>8867</td>\n",
              "      <td>1878</td>\n",
              "    </tr>\n",
              "    <tr>\n",
              "      <th>3</th>\n",
              "      <td>4</td>\n",
              "      <td>MDEwOlJlcG9zaXRvcnkxMzQ5MTg5NQ==</td>\n",
              "      <td>free-programming-books</td>\n",
              "      <td>https://github.com/EbookFoundation/free-progra...</td>\n",
              "      <td>2013-10-11T06:50:37Z</td>\n",
              "      <td>2020-09-26T14:21:53Z</td>\n",
              "      <td>EbookFoundation</td>\n",
              "      <td>NaN</td>\n",
              "      <td>160111</td>\n",
              "      <td>460</td>\n",
              "      <td>424</td>\n",
              "      <td>3158</td>\n",
              "    </tr>\n",
              "    <tr>\n",
              "      <th>4</th>\n",
              "      <td>5</td>\n",
              "      <td>MDEwOlJlcG9zaXRvcnkxMDI3MDI1MA==</td>\n",
              "      <td>react</td>\n",
              "      <td>https://github.com/facebook/react</td>\n",
              "      <td>2013-05-24T16:15:54Z</td>\n",
              "      <td>2020-09-26T15:02:11Z</td>\n",
              "      <td>facebook</td>\n",
              "      <td>JavaScript</td>\n",
              "      <td>156430</td>\n",
              "      <td>9596</td>\n",
              "      <td>9130</td>\n",
              "      <td>10091</td>\n",
              "    </tr>\n",
              "    <tr>\n",
              "      <th>5</th>\n",
              "      <td>6</td>\n",
              "      <td>MDEwOlJlcG9zaXRvcnk0NTcxNzI1MA==</td>\n",
              "      <td>tensorflow</td>\n",
              "      <td>https://github.com/tensorflow/tensorflow</td>\n",
              "      <td>2015-11-07T01:19:20Z</td>\n",
              "      <td>2020-09-26T14:18:14Z</td>\n",
              "      <td>tensorflow</td>\n",
              "      <td>C++</td>\n",
              "      <td>148743</td>\n",
              "      <td>27847</td>\n",
              "      <td>24083</td>\n",
              "      <td>15508</td>\n",
              "    </tr>\n",
              "    <tr>\n",
              "      <th>6</th>\n",
              "      <td>7</td>\n",
              "      <td>MDEwOlJlcG9zaXRvcnkyMTI2MjQ0</td>\n",
              "      <td>bootstrap</td>\n",
              "      <td>https://github.com/twbs/bootstrap</td>\n",
              "      <td>2011-07-29T21:19:00Z</td>\n",
              "      <td>2020-09-26T14:54:48Z</td>\n",
              "      <td>twbs</td>\n",
              "      <td>JavaScript</td>\n",
              "      <td>144315</td>\n",
              "      <td>19608</td>\n",
              "      <td>19289</td>\n",
              "      <td>11411</td>\n",
              "    </tr>\n",
              "    <tr>\n",
              "      <th>7</th>\n",
              "      <td>8</td>\n",
              "      <td>MDEwOlJlcG9zaXRvcnkyMTczNzQ2NQ==</td>\n",
              "      <td>awesome</td>\n",
              "      <td>https://github.com/sindresorhus/awesome</td>\n",
              "      <td>2014-07-11T13:42:37Z</td>\n",
              "      <td>2020-09-26T14:58:27Z</td>\n",
              "      <td>sindresorhus</td>\n",
              "      <td>NaN</td>\n",
              "      <td>141444</td>\n",
              "      <td>257</td>\n",
              "      <td>242</td>\n",
              "      <td>1557</td>\n",
              "    </tr>\n",
              "    <tr>\n",
              "      <th>8</th>\n",
              "      <td>9</td>\n",
              "      <td>MDEwOlJlcG9zaXRvcnk2MDQ5MzEwMQ==</td>\n",
              "      <td>coding-interview-university</td>\n",
              "      <td>https://github.com/jwasham/coding-interview-un...</td>\n",
              "      <td>2016-06-06T02:34:12Z</td>\n",
              "      <td>2020-09-26T14:54:32Z</td>\n",
              "      <td>jwasham</td>\n",
              "      <td>NaN</td>\n",
              "      <td>135621</td>\n",
              "      <td>163</td>\n",
              "      <td>136</td>\n",
              "      <td>456</td>\n",
              "    </tr>\n",
              "    <tr>\n",
              "      <th>9</th>\n",
              "      <td>10</td>\n",
              "      <td>MDEwOlJlcG9zaXRvcnkxNDQ0MDI3MA==</td>\n",
              "      <td>You-Dont-Know-JS</td>\n",
              "      <td>https://github.com/getify/You-Dont-Know-JS</td>\n",
              "      <td>2013-11-16T02:37:24Z</td>\n",
              "      <td>2020-09-26T15:02:05Z</td>\n",
              "      <td>getify</td>\n",
              "      <td>NaN</td>\n",
              "      <td>127750</td>\n",
              "      <td>852</td>\n",
              "      <td>776</td>\n",
              "      <td>820</td>\n",
              "    </tr>\n",
              "  </tbody>\n",
              "</table>\n",
              "</div>"
            ],
            "text/plain": [
              "   RankID                            RepoID  ... IssuesClosed PullRequests\n",
              "0       1  MDEwOlJlcG9zaXRvcnkyODQ1NzgyMw==  ...        14579        24401\n",
              "1       2  MDEwOlJlcG9zaXRvcnkxNzc3MzY1MzM=  ...            0         1856\n",
              "2       3  MDEwOlJlcG9zaXRvcnkxMTczMDM0Mg==  ...         8867         1878\n",
              "3       4  MDEwOlJlcG9zaXRvcnkxMzQ5MTg5NQ==  ...          424         3158\n",
              "4       5  MDEwOlJlcG9zaXRvcnkxMDI3MDI1MA==  ...         9130        10091\n",
              "5       6  MDEwOlJlcG9zaXRvcnk0NTcxNzI1MA==  ...        24083        15508\n",
              "6       7      MDEwOlJlcG9zaXRvcnkyMTI2MjQ0  ...        19289        11411\n",
              "7       8  MDEwOlJlcG9zaXRvcnkyMTczNzQ2NQ==  ...          242         1557\n",
              "8       9  MDEwOlJlcG9zaXRvcnk2MDQ5MzEwMQ==  ...          136          456\n",
              "9      10  MDEwOlJlcG9zaXRvcnkxNDQ0MDI3MA==  ...          776          820\n",
              "\n",
              "[10 rows x 12 columns]"
            ]
          },
          "metadata": {
            "tags": []
          },
          "execution_count": 327
        }
      ]
    },
    {
      "cell_type": "code",
      "metadata": {
        "id": "KgahhT7JggP_",
        "outputId": "70ef786b-aefd-4803-d4b5-22d7245f7e74",
        "colab": {
          "base_uri": "https://localhost:8080/",
          "height": 348
        }
      },
      "source": [
        "df.info()"
      ],
      "execution_count": 76,
      "outputs": [
        {
          "output_type": "stream",
          "text": [
            "<class 'pandas.core.frame.DataFrame'>\n",
            "DatetimeIndex: 1000 entries, 2014-12-24 17:49:19+00:00 to 2014-09-20 16:37:28+00:00\n",
            "Data columns (total 11 columns):\n",
            " #   Column           Non-Null Count  Dtype \n",
            "---  ------           --------------  ----- \n",
            " 0   RankID           1000 non-null   int64 \n",
            " 1   RepoID           1000 non-null   object\n",
            " 2   Name             1000 non-null   object\n",
            " 3   URL              1000 non-null   object\n",
            " 4   UpdatedAt        1000 non-null   object\n",
            " 5   Owner            1000 non-null   object\n",
            " 6   PrimaryLanguage  881 non-null    object\n",
            " 7   Stargazers       1000 non-null   int64 \n",
            " 8   IssuesTotal      1000 non-null   int64 \n",
            " 9   IssuesClosed     1000 non-null   int64 \n",
            " 10  PullRequests     1000 non-null   int64 \n",
            "dtypes: int64(5), object(6)\n",
            "memory usage: 93.8+ KB\n"
          ],
          "name": "stdout"
        }
      ]
    },
    {
      "cell_type": "markdown",
      "metadata": {
        "id": "AQkLV_sY7h6M"
      },
      "source": [
        "\n",
        "\n",
        "---\n",
        "\n"
      ]
    },
    {
      "cell_type": "markdown",
      "metadata": {
        "id": "t8_PjS31fnAJ"
      },
      "source": [
        " **RQ.01**\n",
        "\n",
        "Sistemas populares são mais maduros/antigos?\n",
        "      \n",
        " _Métrica: idade do repositório (calculado a partir da data de sua criação)_\n",
        "\n"
      ]
    },
    {
      "cell_type": "code",
      "metadata": {
        "id": "fdZ5RhNM4RET",
        "outputId": "57516238-be85-4a27-bf82-c8c37d000fac",
        "colab": {
          "base_uri": "https://localhost:8080/",
          "height": 424
        }
      },
      "source": [
        "created_at = {\n",
        "    'Name': df.Name,\n",
        "    'Owner': df.Owner,\n",
        "    'CreatedAt': pd.to_datetime(df.CreatedAt),\n",
        "  }\n",
        "created_at = pd.DataFrame(created_at)\n",
        "created_at = created_at.sort_values(by='CreatedAt', ascending=False)\n",
        "created_at"
      ],
      "execution_count": 322,
      "outputs": [
        {
          "output_type": "execute_result",
          "data": {
            "text/html": [
              "<div>\n",
              "<style scoped>\n",
              "    .dataframe tbody tr th:only-of-type {\n",
              "        vertical-align: middle;\n",
              "    }\n",
              "\n",
              "    .dataframe tbody tr th {\n",
              "        vertical-align: top;\n",
              "    }\n",
              "\n",
              "    .dataframe thead th {\n",
              "        text-align: right;\n",
              "    }\n",
              "</style>\n",
              "<table border=\"1\" class=\"dataframe\">\n",
              "  <thead>\n",
              "    <tr style=\"text-align: right;\">\n",
              "      <th></th>\n",
              "      <th>Name</th>\n",
              "      <th>Owner</th>\n",
              "      <th>CreatedAt</th>\n",
              "    </tr>\n",
              "  </thead>\n",
              "  <tbody>\n",
              "    <tr>\n",
              "      <th>596</th>\n",
              "      <td>hello-algorithm</td>\n",
              "      <td>geekxh</td>\n",
              "      <td>2020-05-29 05:47:09+00:00</td>\n",
              "    </tr>\n",
              "    <tr>\n",
              "      <th>510</th>\n",
              "      <td>design-resources-for-developers</td>\n",
              "      <td>bradtraversy</td>\n",
              "      <td>2020-05-06 14:40:35+00:00</td>\n",
              "    </tr>\n",
              "    <tr>\n",
              "      <th>935</th>\n",
              "      <td>CnC_Remastered_Collection</td>\n",
              "      <td>electronicarts</td>\n",
              "      <td>2020-03-30 17:48:04+00:00</td>\n",
              "    </tr>\n",
              "    <tr>\n",
              "      <th>48</th>\n",
              "      <td>fucking-algorithm</td>\n",
              "      <td>labuladong</td>\n",
              "      <td>2020-02-19 09:01:23+00:00</td>\n",
              "    </tr>\n",
              "    <tr>\n",
              "      <th>347</th>\n",
              "      <td>COVID-19</td>\n",
              "      <td>CSSEGISandData</td>\n",
              "      <td>2020-02-04 22:03:53+00:00</td>\n",
              "    </tr>\n",
              "    <tr>\n",
              "      <th>...</th>\n",
              "      <td>...</td>\n",
              "      <td>...</td>\n",
              "      <td>...</td>\n",
              "    </tr>\n",
              "    <tr>\n",
              "      <th>122</th>\n",
              "      <td>jekyll</td>\n",
              "      <td>jekyll</td>\n",
              "      <td>2008-10-20 06:29:03+00:00</td>\n",
              "    </tr>\n",
              "    <tr>\n",
              "      <th>180</th>\n",
              "      <td>git</td>\n",
              "      <td>git</td>\n",
              "      <td>2008-07-23 14:21:26+00:00</td>\n",
              "    </tr>\n",
              "    <tr>\n",
              "      <th>812</th>\n",
              "      <td>reddit</td>\n",
              "      <td>reddit-archive</td>\n",
              "      <td>2008-06-18 23:30:53+00:00</td>\n",
              "    </tr>\n",
              "    <tr>\n",
              "      <th>98</th>\n",
              "      <td>rails</td>\n",
              "      <td>rails</td>\n",
              "      <td>2008-04-11 02:19:47+00:00</td>\n",
              "    </tr>\n",
              "    <tr>\n",
              "      <th>955</th>\n",
              "      <td>nerdtree</td>\n",
              "      <td>preservim</td>\n",
              "      <td>2008-03-10 07:34:08+00:00</td>\n",
              "    </tr>\n",
              "  </tbody>\n",
              "</table>\n",
              "<p>1000 rows × 3 columns</p>\n",
              "</div>"
            ],
            "text/plain": [
              "                                Name           Owner                 CreatedAt\n",
              "596                  hello-algorithm          geekxh 2020-05-29 05:47:09+00:00\n",
              "510  design-resources-for-developers    bradtraversy 2020-05-06 14:40:35+00:00\n",
              "935        CnC_Remastered_Collection  electronicarts 2020-03-30 17:48:04+00:00\n",
              "48                 fucking-algorithm      labuladong 2020-02-19 09:01:23+00:00\n",
              "347                         COVID-19  CSSEGISandData 2020-02-04 22:03:53+00:00\n",
              "..                               ...             ...                       ...\n",
              "122                           jekyll          jekyll 2008-10-20 06:29:03+00:00\n",
              "180                              git             git 2008-07-23 14:21:26+00:00\n",
              "812                           reddit  reddit-archive 2008-06-18 23:30:53+00:00\n",
              "98                             rails           rails 2008-04-11 02:19:47+00:00\n",
              "955                         nerdtree       preservim 2008-03-10 07:34:08+00:00\n",
              "\n",
              "[1000 rows x 3 columns]"
            ]
          },
          "metadata": {
            "tags": []
          },
          "execution_count": 322
        }
      ]
    },
    {
      "cell_type": "markdown",
      "metadata": {
        "id": "zNwt6zXUzhwR"
      },
      "source": [
        "------"
      ]
    },
    {
      "cell_type": "markdown",
      "metadata": {
        "id": "gkFso7WWzzB5"
      },
      "source": [
        "**RQ.02**\n",
        "      \n",
        "Sistemas populares recebem muita contribuição externa?\n",
        "\n",
        "_Métrica: total de pullrequests aceitas_"
      ]
    },
    {
      "cell_type": "code",
      "metadata": {
        "id": "3tcd88uVz0YR",
        "outputId": "5e8b7ced-2e4a-44cc-eb93-efdcf0639d99",
        "colab": {
          "base_uri": "https://localhost:8080/",
          "height": 424
        }
      },
      "source": [
        "pr = {\n",
        "    'Name': df.Name,\n",
        "    'Owner': df.Owner,\n",
        "    'PullRequests': df.PullRequests,\n",
        "  }\n",
        "pr = pd.DataFrame(pr)\n",
        "pr.sort_values(by='PullRequests', ascending=False)"
      ],
      "execution_count": 331,
      "outputs": [
        {
          "output_type": "execute_result",
          "data": {
            "text/html": [
              "<div>\n",
              "<style scoped>\n",
              "    .dataframe tbody tr th:only-of-type {\n",
              "        vertical-align: middle;\n",
              "    }\n",
              "\n",
              "    .dataframe tbody tr th {\n",
              "        vertical-align: top;\n",
              "    }\n",
              "\n",
              "    .dataframe thead th {\n",
              "        text-align: right;\n",
              "    }\n",
              "</style>\n",
              "<table border=\"1\" class=\"dataframe\">\n",
              "  <thead>\n",
              "    <tr style=\"text-align: right;\">\n",
              "      <th></th>\n",
              "      <th>Name</th>\n",
              "      <th>Owner</th>\n",
              "      <th>PullRequests</th>\n",
              "    </tr>\n",
              "  </thead>\n",
              "  <tbody>\n",
              "    <tr>\n",
              "      <th>672</th>\n",
              "      <td>homebrew-cask</td>\n",
              "      <td>Homebrew</td>\n",
              "      <td>84366</td>\n",
              "    </tr>\n",
              "    <tr>\n",
              "      <th>35</th>\n",
              "      <td>kubernetes</td>\n",
              "      <td>kubernetes</td>\n",
              "      <td>58833</td>\n",
              "    </tr>\n",
              "    <tr>\n",
              "      <th>865</th>\n",
              "      <td>kibana</td>\n",
              "      <td>elastic</td>\n",
              "      <td>50549</td>\n",
              "    </tr>\n",
              "    <tr>\n",
              "      <th>584</th>\n",
              "      <td>odoo</td>\n",
              "      <td>odoo</td>\n",
              "      <td>43967</td>\n",
              "    </tr>\n",
              "    <tr>\n",
              "      <th>105</th>\n",
              "      <td>ansible</td>\n",
              "      <td>ansible</td>\n",
              "      <td>43617</td>\n",
              "    </tr>\n",
              "    <tr>\n",
              "      <th>...</th>\n",
              "      <td>...</td>\n",
              "      <td>...</td>\n",
              "      <td>...</td>\n",
              "    </tr>\n",
              "    <tr>\n",
              "      <th>602</th>\n",
              "      <td>fanqiang</td>\n",
              "      <td>bannedbook</td>\n",
              "      <td>4</td>\n",
              "    </tr>\n",
              "    <tr>\n",
              "      <th>945</th>\n",
              "      <td>download</td>\n",
              "      <td>getlantern</td>\n",
              "      <td>4</td>\n",
              "    </tr>\n",
              "    <tr>\n",
              "      <th>721</th>\n",
              "      <td>SpringAll</td>\n",
              "      <td>wuyouzhuguli</td>\n",
              "      <td>3</td>\n",
              "    </tr>\n",
              "    <tr>\n",
              "      <th>653</th>\n",
              "      <td>architecture.of.internet-product</td>\n",
              "      <td>davideuler</td>\n",
              "      <td>3</td>\n",
              "    </tr>\n",
              "    <tr>\n",
              "      <th>304</th>\n",
              "      <td>new-pac</td>\n",
              "      <td>Alvin9999</td>\n",
              "      <td>1</td>\n",
              "    </tr>\n",
              "  </tbody>\n",
              "</table>\n",
              "<p>1000 rows × 3 columns</p>\n",
              "</div>"
            ],
            "text/plain": [
              "                                 Name         Owner  PullRequests\n",
              "672                     homebrew-cask      Homebrew         84366\n",
              "35                         kubernetes    kubernetes         58833\n",
              "865                            kibana       elastic         50549\n",
              "584                              odoo          odoo         43967\n",
              "105                           ansible       ansible         43617\n",
              "..                                ...           ...           ...\n",
              "602                          fanqiang    bannedbook             4\n",
              "945                          download    getlantern             4\n",
              "721                         SpringAll  wuyouzhuguli             3\n",
              "653  architecture.of.internet-product    davideuler             3\n",
              "304                           new-pac     Alvin9999             1\n",
              "\n",
              "[1000 rows x 3 columns]"
            ]
          },
          "metadata": {
            "tags": []
          },
          "execution_count": 331
        }
      ]
    },
    {
      "cell_type": "markdown",
      "metadata": {
        "id": "2ybdaOXl5m3K"
      },
      "source": [
        "-----"
      ]
    },
    {
      "cell_type": "markdown",
      "metadata": {
        "id": "SIJ0tGc_6Jsn"
      },
      "source": [
        "**RQ.04**\n",
        "      Sistemas populares são atualizados com frequência?\n",
        "      _Métrica: tempo até a última atualização (calculado a partir da data de última atualização)_"
      ]
    },
    {
      "cell_type": "code",
      "metadata": {
        "id": "4KtJ4-PV6Ea7",
        "outputId": "62ef195f-4202-4f7b-d36c-29893ab76549",
        "colab": {
          "base_uri": "https://localhost:8080/",
          "height": 424
        }
      },
      "source": [
        "updated_at = {\n",
        "    'Name': df.Name,\n",
        "    'Owner': df.Owner,\n",
        "    'UpdatedAt': pd.to_datetime(df.UpdatedAt),\n",
        "  }\n",
        "updated_at = pd.DataFrame(updated_at)\n",
        "updated_at = updated_at.sort_values(by='UpdatedAt', ascending=False)\n",
        "updated_at"
      ],
      "execution_count": 333,
      "outputs": [
        {
          "output_type": "execute_result",
          "data": {
            "text/html": [
              "<div>\n",
              "<style scoped>\n",
              "    .dataframe tbody tr th:only-of-type {\n",
              "        vertical-align: middle;\n",
              "    }\n",
              "\n",
              "    .dataframe tbody tr th {\n",
              "        vertical-align: top;\n",
              "    }\n",
              "\n",
              "    .dataframe thead th {\n",
              "        text-align: right;\n",
              "    }\n",
              "</style>\n",
              "<table border=\"1\" class=\"dataframe\">\n",
              "  <thead>\n",
              "    <tr style=\"text-align: right;\">\n",
              "      <th></th>\n",
              "      <th>Name</th>\n",
              "      <th>Owner</th>\n",
              "      <th>UpdatedAt</th>\n",
              "    </tr>\n",
              "  </thead>\n",
              "  <tbody>\n",
              "    <tr>\n",
              "      <th>953</th>\n",
              "      <td>awesome-datascience</td>\n",
              "      <td>academic</td>\n",
              "      <td>2020-09-26 15:06:00+00:00</td>\n",
              "    </tr>\n",
              "    <tr>\n",
              "      <th>936</th>\n",
              "      <td>NativeBase</td>\n",
              "      <td>GeekyAnts</td>\n",
              "      <td>2020-09-26 15:05:57+00:00</td>\n",
              "    </tr>\n",
              "    <tr>\n",
              "      <th>760</th>\n",
              "      <td>edex-ui</td>\n",
              "      <td>GitSquared</td>\n",
              "      <td>2020-09-26 15:05:51+00:00</td>\n",
              "    </tr>\n",
              "    <tr>\n",
              "      <th>106</th>\n",
              "      <td>nvm</td>\n",
              "      <td>nvm-sh</td>\n",
              "      <td>2020-09-26 15:05:23+00:00</td>\n",
              "    </tr>\n",
              "    <tr>\n",
              "      <th>300</th>\n",
              "      <td>mkcert</td>\n",
              "      <td>FiloSottile</td>\n",
              "      <td>2020-09-26 15:05:19+00:00</td>\n",
              "    </tr>\n",
              "    <tr>\n",
              "      <th>...</th>\n",
              "      <td>...</td>\n",
              "      <td>...</td>\n",
              "      <td>...</td>\n",
              "    </tr>\n",
              "    <tr>\n",
              "      <th>879</th>\n",
              "      <td>zepto</td>\n",
              "      <td>madrobby</td>\n",
              "      <td>2020-09-24 22:37:49+00:00</td>\n",
              "    </tr>\n",
              "    <tr>\n",
              "      <th>175</th>\n",
              "      <td>node-v0.x-archive</td>\n",
              "      <td>nodejs</td>\n",
              "      <td>2020-09-24 22:37:46+00:00</td>\n",
              "    </tr>\n",
              "    <tr>\n",
              "      <th>871</th>\n",
              "      <td>parallax</td>\n",
              "      <td>wagerfield</td>\n",
              "      <td>2020-09-24 21:03:05+00:00</td>\n",
              "    </tr>\n",
              "    <tr>\n",
              "      <th>991</th>\n",
              "      <td>ui-router</td>\n",
              "      <td>angular-ui</td>\n",
              "      <td>2020-09-23 21:10:57+00:00</td>\n",
              "    </tr>\n",
              "    <tr>\n",
              "      <th>903</th>\n",
              "      <td>bootstrap</td>\n",
              "      <td>angular-ui</td>\n",
              "      <td>2020-09-21 20:58:21+00:00</td>\n",
              "    </tr>\n",
              "  </tbody>\n",
              "</table>\n",
              "<p>1000 rows × 3 columns</p>\n",
              "</div>"
            ],
            "text/plain": [
              "                    Name        Owner                 UpdatedAt\n",
              "953  awesome-datascience     academic 2020-09-26 15:06:00+00:00\n",
              "936           NativeBase    GeekyAnts 2020-09-26 15:05:57+00:00\n",
              "760              edex-ui   GitSquared 2020-09-26 15:05:51+00:00\n",
              "106                  nvm       nvm-sh 2020-09-26 15:05:23+00:00\n",
              "300               mkcert  FiloSottile 2020-09-26 15:05:19+00:00\n",
              "..                   ...          ...                       ...\n",
              "879                zepto     madrobby 2020-09-24 22:37:49+00:00\n",
              "175    node-v0.x-archive       nodejs 2020-09-24 22:37:46+00:00\n",
              "871             parallax   wagerfield 2020-09-24 21:03:05+00:00\n",
              "991            ui-router   angular-ui 2020-09-23 21:10:57+00:00\n",
              "903            bootstrap   angular-ui 2020-09-21 20:58:21+00:00\n",
              "\n",
              "[1000 rows x 3 columns]"
            ]
          },
          "metadata": {
            "tags": []
          },
          "execution_count": 333
        }
      ]
    },
    {
      "cell_type": "markdown",
      "metadata": {
        "id": "g7Ed-LoI6duO"
      },
      "source": [
        "-----"
      ]
    },
    {
      "cell_type": "markdown",
      "metadata": {
        "id": "V_OX-t3e6jVc"
      },
      "source": [
        "**RQ.05**\n",
        "      Sistemas populares são escritos nas linguagens mais populares?\n",
        "      _Métrica: linguagem primária de cada um desses repositórios_"
      ]
    },
    {
      "cell_type": "code",
      "metadata": {
        "id": "wP88NrIb6f8A",
        "outputId": "cf550c4d-b0ad-4dc1-afed-da9957b7537b",
        "colab": {
          "base_uri": "https://localhost:8080/",
          "height": 677
        }
      },
      "source": [
        "prog_language = df['PrimaryLanguage'].value_counts().to_frame().reset_index()\n",
        "prog_language.columns = [\"Language\", \"Total\"]\n",
        "prog_language.head(20)"
      ],
      "execution_count": 334,
      "outputs": [
        {
          "output_type": "execute_result",
          "data": {
            "text/html": [
              "<div>\n",
              "<style scoped>\n",
              "    .dataframe tbody tr th:only-of-type {\n",
              "        vertical-align: middle;\n",
              "    }\n",
              "\n",
              "    .dataframe tbody tr th {\n",
              "        vertical-align: top;\n",
              "    }\n",
              "\n",
              "    .dataframe thead th {\n",
              "        text-align: right;\n",
              "    }\n",
              "</style>\n",
              "<table border=\"1\" class=\"dataframe\">\n",
              "  <thead>\n",
              "    <tr style=\"text-align: right;\">\n",
              "      <th></th>\n",
              "      <th>Language</th>\n",
              "      <th>Total</th>\n",
              "    </tr>\n",
              "  </thead>\n",
              "  <tbody>\n",
              "    <tr>\n",
              "      <th>0</th>\n",
              "      <td>JavaScript</td>\n",
              "      <td>283</td>\n",
              "    </tr>\n",
              "    <tr>\n",
              "      <th>1</th>\n",
              "      <td>Python</td>\n",
              "      <td>99</td>\n",
              "    </tr>\n",
              "    <tr>\n",
              "      <th>2</th>\n",
              "      <td>Java</td>\n",
              "      <td>81</td>\n",
              "    </tr>\n",
              "    <tr>\n",
              "      <th>3</th>\n",
              "      <td>TypeScript</td>\n",
              "      <td>62</td>\n",
              "    </tr>\n",
              "    <tr>\n",
              "      <th>4</th>\n",
              "      <td>Go</td>\n",
              "      <td>62</td>\n",
              "    </tr>\n",
              "    <tr>\n",
              "      <th>5</th>\n",
              "      <td>C++</td>\n",
              "      <td>48</td>\n",
              "    </tr>\n",
              "    <tr>\n",
              "      <th>6</th>\n",
              "      <td>HTML</td>\n",
              "      <td>23</td>\n",
              "    </tr>\n",
              "    <tr>\n",
              "      <th>7</th>\n",
              "      <td>Swift</td>\n",
              "      <td>22</td>\n",
              "    </tr>\n",
              "    <tr>\n",
              "      <th>8</th>\n",
              "      <td>Shell</td>\n",
              "      <td>22</td>\n",
              "    </tr>\n",
              "    <tr>\n",
              "      <th>9</th>\n",
              "      <td>C</td>\n",
              "      <td>21</td>\n",
              "    </tr>\n",
              "    <tr>\n",
              "      <th>10</th>\n",
              "      <td>CSS</td>\n",
              "      <td>20</td>\n",
              "    </tr>\n",
              "    <tr>\n",
              "      <th>11</th>\n",
              "      <td>Ruby</td>\n",
              "      <td>17</td>\n",
              "    </tr>\n",
              "    <tr>\n",
              "      <th>12</th>\n",
              "      <td>PHP</td>\n",
              "      <td>15</td>\n",
              "    </tr>\n",
              "    <tr>\n",
              "      <th>13</th>\n",
              "      <td>Jupyter Notebook</td>\n",
              "      <td>12</td>\n",
              "    </tr>\n",
              "    <tr>\n",
              "      <th>14</th>\n",
              "      <td>Kotlin</td>\n",
              "      <td>11</td>\n",
              "    </tr>\n",
              "    <tr>\n",
              "      <th>15</th>\n",
              "      <td>C#</td>\n",
              "      <td>10</td>\n",
              "    </tr>\n",
              "    <tr>\n",
              "      <th>16</th>\n",
              "      <td>Rust</td>\n",
              "      <td>10</td>\n",
              "    </tr>\n",
              "    <tr>\n",
              "      <th>17</th>\n",
              "      <td>Vim script</td>\n",
              "      <td>10</td>\n",
              "    </tr>\n",
              "    <tr>\n",
              "      <th>18</th>\n",
              "      <td>Vue</td>\n",
              "      <td>9</td>\n",
              "    </tr>\n",
              "    <tr>\n",
              "      <th>19</th>\n",
              "      <td>Objective-C</td>\n",
              "      <td>7</td>\n",
              "    </tr>\n",
              "  </tbody>\n",
              "</table>\n",
              "</div>"
            ],
            "text/plain": [
              "            Language  Total\n",
              "0         JavaScript    283\n",
              "1             Python     99\n",
              "2               Java     81\n",
              "3         TypeScript     62\n",
              "4                 Go     62\n",
              "5                C++     48\n",
              "6               HTML     23\n",
              "7              Swift     22\n",
              "8              Shell     22\n",
              "9                  C     21\n",
              "10               CSS     20\n",
              "11              Ruby     17\n",
              "12               PHP     15\n",
              "13  Jupyter Notebook     12\n",
              "14            Kotlin     11\n",
              "15                C#     10\n",
              "16              Rust     10\n",
              "17        Vim script     10\n",
              "18               Vue      9\n",
              "19       Objective-C      7"
            ]
          },
          "metadata": {
            "tags": []
          },
          "execution_count": 334
        }
      ]
    },
    {
      "cell_type": "code",
      "metadata": {
        "id": "1I9omF_PO19x",
        "outputId": "9a2eb0d8-eced-4067-8830-bc1126d1a53c",
        "colab": {
          "base_uri": "https://localhost:8080/",
          "height": 297
        }
      },
      "source": [
        "import seaborn as sns \n",
        "\n",
        "hd = prog_language.head()\n",
        "sns.barplot(x=\"Language\", y=\"Total\", data = hd)"
      ],
      "execution_count": 149,
      "outputs": [
        {
          "output_type": "execute_result",
          "data": {
            "text/plain": [
              "<matplotlib.axes._subplots.AxesSubplot at 0x7fdc156ac4e0>"
            ]
          },
          "metadata": {
            "tags": []
          },
          "execution_count": 149
        },
        {
          "output_type": "display_data",
          "data": {
            "image/png": "[encoded data removed]",
            "text/plain": [
              "<Figure size 432x288 with 1 Axes>"
            ]
          },
          "metadata": {
            "tags": [],
            "needs_background": "light"
          }
        }
      ]
    },
    {
      "cell_type": "code",
      "metadata": {
        "id": "VQqN-WucPfpY",
        "outputId": "be9125cc-53e3-4bd2-aba4-f404b37b9e3c",
        "colab": {
          "base_uri": "https://localhost:8080/",
          "height": 432
        }
      },
      "source": [
        "import matplotlib.pyplot as plt\n",
        "\n",
        "plt.pie(hd[\"Total\"], labels = hd['Language'])"
      ],
      "execution_count": 154,
      "outputs": [
        {
          "output_type": "execute_result",
          "data": {
            "text/plain": [
              "([<matplotlib.patches.Wedge at 0x7fdc154f3b70>,\n",
              "  <matplotlib.patches.Wedge at 0x7fdc15500080>,\n",
              "  <matplotlib.patches.Wedge at 0x7fdc15500588>,\n",
              "  <matplotlib.patches.Wedge at 0x7fdc155009e8>,\n",
              "  <matplotlib.patches.Wedge at 0x7fdc15500e80>],\n",
              " [Text(0.06178244908683376, 1.0982635972228312, 'JavaScript'),\n",
              "  Text(-1.005537513762013, -0.4459756814191887, 'Python'),\n",
              "  Text(-0.20773842181219046, -1.0802058822756802, 'Java'),\n",
              "  Text(0.5985267821059695, -0.9229115294013146, 'TypeScript'),\n",
              "  Text(1.039995871960762, -0.3583414381627869, 'Go')])"
            ]
          },
          "metadata": {
            "tags": []
          },
          "execution_count": 154
        },
        {
          "output_type": "display_data",
          "data": {
            "image/png": "[encoded data removed]",
            "text/plain": [
              "<Figure size 432x288 with 1 Axes>"
            ]
          },
          "metadata": {
            "tags": []
          }
        }
      ]
    },
    {
      "cell_type": "markdown",
      "metadata": {
        "id": "zqPr9N768Z-J"
      },
      "source": [
        "------"
      ]
    },
    {
      "cell_type": "markdown",
      "metadata": {
        "id": "Vc8sW4rQ8ghs"
      },
      "source": [
        "**RQ.06**\n",
        "\n",
        "Sistemas populares possuem um alto percentual de issues fechadas?\n",
        "\n",
        "\n",
        "_Métrica: razão entre número de issues fechadas pelo total de issues_"
      ]
    },
    {
      "cell_type": "code",
      "metadata": {
        "id": "m9NDKT8K8b0C",
        "outputId": "4dbb6b26-80c0-496f-fdd5-95070a57a863",
        "colab": {
          "base_uri": "https://localhost:8080/",
          "height": 363
        }
      },
      "source": [
        "most_issues = {\n",
        "    'Name': df.Name,\n",
        "    'IssuesTotal': df.IssuesTotal,\n",
        "  }\n",
        "most_issues = pd.DataFrame(most_issues)\n",
        "most_issues = issues.sort_values(by='IssuesTotal', ascending=False)\n",
        "most_issues.head(10)"
      ],
      "execution_count": 279,
      "outputs": [
        {
          "output_type": "execute_result",
          "data": {
            "text/html": [
              "<div>\n",
              "<style scoped>\n",
              "    .dataframe tbody tr th:only-of-type {\n",
              "        vertical-align: middle;\n",
              "    }\n",
              "\n",
              "    .dataframe tbody tr th {\n",
              "        vertical-align: top;\n",
              "    }\n",
              "\n",
              "    .dataframe thead th {\n",
              "        text-align: right;\n",
              "    }\n",
              "</style>\n",
              "<table border=\"1\" class=\"dataframe\">\n",
              "  <thead>\n",
              "    <tr style=\"text-align: right;\">\n",
              "      <th></th>\n",
              "      <th>Name</th>\n",
              "      <th>IssuesClosed</th>\n",
              "      <th>IssuesTotal</th>\n",
              "      <th>IssuesClosed%</th>\n",
              "    </tr>\n",
              "  </thead>\n",
              "  <tbody>\n",
              "    <tr>\n",
              "      <th>15</th>\n",
              "      <td>vscode</td>\n",
              "      <td>92476</td>\n",
              "      <td>97824</td>\n",
              "      <td>94.533039</td>\n",
              "    </tr>\n",
              "    <tr>\n",
              "      <th>16</th>\n",
              "      <td>flutter</td>\n",
              "      <td>35868</td>\n",
              "      <td>43735</td>\n",
              "      <td>82.012118</td>\n",
              "    </tr>\n",
              "    <tr>\n",
              "      <th>32</th>\n",
              "      <td>go</td>\n",
              "      <td>33945</td>\n",
              "      <td>40117</td>\n",
              "      <td>84.615001</td>\n",
              "    </tr>\n",
              "    <tr>\n",
              "      <th>35</th>\n",
              "      <td>kubernetes</td>\n",
              "      <td>34167</td>\n",
              "      <td>36201</td>\n",
              "      <td>94.381371</td>\n",
              "    </tr>\n",
              "    <tr>\n",
              "      <th>85</th>\n",
              "      <td>rust</td>\n",
              "      <td>30087</td>\n",
              "      <td>36044</td>\n",
              "      <td>83.472977</td>\n",
              "    </tr>\n",
              "    <tr>\n",
              "      <th>105</th>\n",
              "      <td>ansible</td>\n",
              "      <td>26621</td>\n",
              "      <td>28140</td>\n",
              "      <td>94.601990</td>\n",
              "    </tr>\n",
              "    <tr>\n",
              "      <th>865</th>\n",
              "      <td>kibana</td>\n",
              "      <td>21062</td>\n",
              "      <td>27949</td>\n",
              "      <td>75.358689</td>\n",
              "    </tr>\n",
              "    <tr>\n",
              "      <th>565</th>\n",
              "      <td>cockroach</td>\n",
              "      <td>24589</td>\n",
              "      <td>27863</td>\n",
              "      <td>88.249650</td>\n",
              "    </tr>\n",
              "    <tr>\n",
              "      <th>5</th>\n",
              "      <td>tensorflow</td>\n",
              "      <td>24083</td>\n",
              "      <td>27847</td>\n",
              "      <td>86.483284</td>\n",
              "    </tr>\n",
              "    <tr>\n",
              "      <th>44</th>\n",
              "      <td>TypeScript</td>\n",
              "      <td>23268</td>\n",
              "      <td>27768</td>\n",
              "      <td>83.794296</td>\n",
              "    </tr>\n",
              "  </tbody>\n",
              "</table>\n",
              "</div>"
            ],
            "text/plain": [
              "           Name  IssuesClosed  IssuesTotal  IssuesClosed%\n",
              "15       vscode         92476        97824      94.533039\n",
              "16      flutter         35868        43735      82.012118\n",
              "32           go         33945        40117      84.615001\n",
              "35   kubernetes         34167        36201      94.381371\n",
              "85         rust         30087        36044      83.472977\n",
              "105     ansible         26621        28140      94.601990\n",
              "865      kibana         21062        27949      75.358689\n",
              "565   cockroach         24589        27863      88.249650\n",
              "5    tensorflow         24083        27847      86.483284\n",
              "44   TypeScript         23268        27768      83.794296"
            ]
          },
          "metadata": {
            "tags": []
          },
          "execution_count": 279
        }
      ]
    },
    {
      "cell_type": "code",
      "metadata": {
        "id": "h-ov1rhTVnNq",
        "outputId": "bf53b493-9f20-437e-d90c-b24b39c34a59",
        "colab": {
          "base_uri": "https://localhost:8080/",
          "height": 363
        }
      },
      "source": [
        "issues_closed = {\n",
        "    'Name': df.Name,\n",
        "    'IssuesClosed': df.IssuesClosed,\n",
        "  }\n",
        "issues_closed = pd.DataFrame(issues_closed)\n",
        "issues_closed = issues.sort_values(by='IssuesClosed', ascending=False)\n",
        "issues_closed.head(10)"
      ],
      "execution_count": 280,
      "outputs": [
        {
          "output_type": "execute_result",
          "data": {
            "text/html": [
              "<div>\n",
              "<style scoped>\n",
              "    .dataframe tbody tr th:only-of-type {\n",
              "        vertical-align: middle;\n",
              "    }\n",
              "\n",
              "    .dataframe tbody tr th {\n",
              "        vertical-align: top;\n",
              "    }\n",
              "\n",
              "    .dataframe thead th {\n",
              "        text-align: right;\n",
              "    }\n",
              "</style>\n",
              "<table border=\"1\" class=\"dataframe\">\n",
              "  <thead>\n",
              "    <tr style=\"text-align: right;\">\n",
              "      <th></th>\n",
              "      <th>Name</th>\n",
              "      <th>IssuesClosed</th>\n",
              "      <th>IssuesTotal</th>\n",
              "      <th>IssuesClosed%</th>\n",
              "    </tr>\n",
              "  </thead>\n",
              "  <tbody>\n",
              "    <tr>\n",
              "      <th>15</th>\n",
              "      <td>vscode</td>\n",
              "      <td>92476</td>\n",
              "      <td>97824</td>\n",
              "      <td>94.533039</td>\n",
              "    </tr>\n",
              "    <tr>\n",
              "      <th>16</th>\n",
              "      <td>flutter</td>\n",
              "      <td>35868</td>\n",
              "      <td>43735</td>\n",
              "      <td>82.012118</td>\n",
              "    </tr>\n",
              "    <tr>\n",
              "      <th>35</th>\n",
              "      <td>kubernetes</td>\n",
              "      <td>34167</td>\n",
              "      <td>36201</td>\n",
              "      <td>94.381371</td>\n",
              "    </tr>\n",
              "    <tr>\n",
              "      <th>32</th>\n",
              "      <td>go</td>\n",
              "      <td>33945</td>\n",
              "      <td>40117</td>\n",
              "      <td>84.615001</td>\n",
              "    </tr>\n",
              "    <tr>\n",
              "      <th>85</th>\n",
              "      <td>rust</td>\n",
              "      <td>30087</td>\n",
              "      <td>36044</td>\n",
              "      <td>83.472977</td>\n",
              "    </tr>\n",
              "    <tr>\n",
              "      <th>105</th>\n",
              "      <td>ansible</td>\n",
              "      <td>26621</td>\n",
              "      <td>28140</td>\n",
              "      <td>94.601990</td>\n",
              "    </tr>\n",
              "    <tr>\n",
              "      <th>565</th>\n",
              "      <td>cockroach</td>\n",
              "      <td>24589</td>\n",
              "      <td>27863</td>\n",
              "      <td>88.249650</td>\n",
              "    </tr>\n",
              "    <tr>\n",
              "      <th>5</th>\n",
              "      <td>tensorflow</td>\n",
              "      <td>24083</td>\n",
              "      <td>27847</td>\n",
              "      <td>86.483284</td>\n",
              "    </tr>\n",
              "    <tr>\n",
              "      <th>44</th>\n",
              "      <td>TypeScript</td>\n",
              "      <td>23268</td>\n",
              "      <td>27768</td>\n",
              "      <td>83.794296</td>\n",
              "    </tr>\n",
              "    <tr>\n",
              "      <th>71</th>\n",
              "      <td>elasticsearch</td>\n",
              "      <td>22283</td>\n",
              "      <td>24939</td>\n",
              "      <td>89.350014</td>\n",
              "    </tr>\n",
              "  </tbody>\n",
              "</table>\n",
              "</div>"
            ],
            "text/plain": [
              "              Name  IssuesClosed  IssuesTotal  IssuesClosed%\n",
              "15          vscode         92476        97824      94.533039\n",
              "16         flutter         35868        43735      82.012118\n",
              "35      kubernetes         34167        36201      94.381371\n",
              "32              go         33945        40117      84.615001\n",
              "85            rust         30087        36044      83.472977\n",
              "105        ansible         26621        28140      94.601990\n",
              "565      cockroach         24589        27863      88.249650\n",
              "5       tensorflow         24083        27847      86.483284\n",
              "44      TypeScript         23268        27768      83.794296\n",
              "71   elasticsearch         22283        24939      89.350014"
            ]
          },
          "metadata": {
            "tags": []
          },
          "execution_count": 280
        }
      ]
    },
    {
      "cell_type": "code",
      "metadata": {
        "id": "G4ZyUYLIbVCf",
        "outputId": "16e55fd9-ce44-40e3-f4c8-6a001314c7e2",
        "colab": {
          "base_uri": "https://localhost:8080/",
          "height": 387
        }
      },
      "source": [
        "import seaborn as sns \n",
        "\n",
        "hd = issues_closed.head(15)\n",
        "sns.catplot(x=\"Name\", y=\"IssuesClosed\", data = hd, kind=\"bar\", aspect=3)"
      ],
      "execution_count": 281,
      "outputs": [
        {
          "output_type": "execute_result",
          "data": {
            "text/plain": [
              "<seaborn.axisgrid.FacetGrid at 0x7fdc0ed1ee48>"
            ]
          },
          "metadata": {
            "tags": []
          },
          "execution_count": 281
        },
        {
          "output_type": "display_data",
          "data": {
            "image/png": "[encoded data removed]",
            "text/plain": [
              "<Figure size 1080x360 with 1 Axes>"
            ]
          },
          "metadata": {
            "tags": [],
            "needs_background": "light"
          }
        }
      ]
    },
    {
      "cell_type": "code",
      "metadata": {
        "id": "fTOjtoE5bFyp",
        "outputId": "3ebcece3-b842-4580-95ee-61bd0aa2cd01",
        "colab": {
          "base_uri": "https://localhost:8080/",
          "height": 363
        }
      },
      "source": [
        "issues_open = {\n",
        "    'Name': df.Name,\n",
        "    'IssuesOpen': df.IssuesTotal - df.IssuesClosed,\n",
        "    'IssuesClosed': df.IssuesClosed,\n",
        "    'IssuesTotal': df.IssuesTotal,\n",
        "  }\n",
        "issues_open = pd.DataFrame(issues_open)\n",
        "issues_open = issues_open.sort_values(by='IssuesOpen', ascending=False)\n",
        "issues_open.head(10)"
      ],
      "execution_count": 282,
      "outputs": [
        {
          "output_type": "execute_result",
          "data": {
            "text/html": [
              "<div>\n",
              "<style scoped>\n",
              "    .dataframe tbody tr th:only-of-type {\n",
              "        vertical-align: middle;\n",
              "    }\n",
              "\n",
              "    .dataframe tbody tr th {\n",
              "        vertical-align: top;\n",
              "    }\n",
              "\n",
              "    .dataframe thead th {\n",
              "        text-align: right;\n",
              "    }\n",
              "</style>\n",
              "<table border=\"1\" class=\"dataframe\">\n",
              "  <thead>\n",
              "    <tr style=\"text-align: right;\">\n",
              "      <th></th>\n",
              "      <th>Name</th>\n",
              "      <th>IssuesOpen</th>\n",
              "      <th>IssuesClosed</th>\n",
              "      <th>IssuesTotal</th>\n",
              "    </tr>\n",
              "  </thead>\n",
              "  <tbody>\n",
              "    <tr>\n",
              "      <th>16</th>\n",
              "      <td>flutter</td>\n",
              "      <td>7867</td>\n",
              "      <td>35868</td>\n",
              "      <td>43735</td>\n",
              "    </tr>\n",
              "    <tr>\n",
              "      <th>226</th>\n",
              "      <td>XX-Net</td>\n",
              "      <td>7618</td>\n",
              "      <td>5049</td>\n",
              "      <td>12667</td>\n",
              "    </tr>\n",
              "    <tr>\n",
              "      <th>865</th>\n",
              "      <td>kibana</td>\n",
              "      <td>6887</td>\n",
              "      <td>21062</td>\n",
              "      <td>27949</td>\n",
              "    </tr>\n",
              "    <tr>\n",
              "      <th>32</th>\n",
              "      <td>go</td>\n",
              "      <td>6172</td>\n",
              "      <td>33945</td>\n",
              "      <td>40117</td>\n",
              "    </tr>\n",
              "    <tr>\n",
              "      <th>85</th>\n",
              "      <td>rust</td>\n",
              "      <td>5957</td>\n",
              "      <td>30087</td>\n",
              "      <td>36044</td>\n",
              "    </tr>\n",
              "    <tr>\n",
              "      <th>45</th>\n",
              "      <td>Font-Awesome</td>\n",
              "      <td>5510</td>\n",
              "      <td>11000</td>\n",
              "      <td>16510</td>\n",
              "    </tr>\n",
              "    <tr>\n",
              "      <th>15</th>\n",
              "      <td>vscode</td>\n",
              "      <td>5348</td>\n",
              "      <td>92476</td>\n",
              "      <td>97824</td>\n",
              "    </tr>\n",
              "    <tr>\n",
              "      <th>115</th>\n",
              "      <td>pytorch</td>\n",
              "      <td>5045</td>\n",
              "      <td>11309</td>\n",
              "      <td>16354</td>\n",
              "    </tr>\n",
              "    <tr>\n",
              "      <th>190</th>\n",
              "      <td>godot</td>\n",
              "      <td>4819</td>\n",
              "      <td>19754</td>\n",
              "      <td>24573</td>\n",
              "    </tr>\n",
              "    <tr>\n",
              "      <th>44</th>\n",
              "      <td>TypeScript</td>\n",
              "      <td>4500</td>\n",
              "      <td>23268</td>\n",
              "      <td>27768</td>\n",
              "    </tr>\n",
              "  </tbody>\n",
              "</table>\n",
              "</div>"
            ],
            "text/plain": [
              "             Name  IssuesOpen  IssuesClosed  IssuesTotal\n",
              "16        flutter        7867         35868        43735\n",
              "226        XX-Net        7618          5049        12667\n",
              "865        kibana        6887         21062        27949\n",
              "32             go        6172         33945        40117\n",
              "85           rust        5957         30087        36044\n",
              "45   Font-Awesome        5510         11000        16510\n",
              "15         vscode        5348         92476        97824\n",
              "115       pytorch        5045         11309        16354\n",
              "190         godot        4819         19754        24573\n",
              "44     TypeScript        4500         23268        27768"
            ]
          },
          "metadata": {
            "tags": []
          },
          "execution_count": 282
        }
      ]
    },
    {
      "cell_type": "code",
      "metadata": {
        "id": "nD_SKePLgL8q",
        "outputId": "778649f5-df34-44ef-c04a-6d8474da4e8f",
        "colab": {
          "base_uri": "https://localhost:8080/",
          "height": 677
        }
      },
      "source": [
        "issues_percent = {\n",
        "    'Name': issues_open.Name,\n",
        "    'IssuesClosed': issues_open.IssuesClosed,\n",
        "    'IssuesTotal': issues_open.IssuesTotal,\n",
        "    'IssuesClosed%': (issues_open.IssuesClosed * 100) / issues_open.IssuesTotal\n",
        "  }\n",
        "issues_percent = pd.DataFrame(issues_percent)\n",
        "issues_percent_asc = issues_percent.sort_values(by='IssuesClosed%', ascending=False)\n",
        "issues_percent_asc.head(20)"
      ],
      "execution_count": 291,
      "outputs": [
        {
          "output_type": "execute_result",
          "data": {
            "text/html": [
              "<div>\n",
              "<style scoped>\n",
              "    .dataframe tbody tr th:only-of-type {\n",
              "        vertical-align: middle;\n",
              "    }\n",
              "\n",
              "    .dataframe tbody tr th {\n",
              "        vertical-align: top;\n",
              "    }\n",
              "\n",
              "    .dataframe thead th {\n",
              "        text-align: right;\n",
              "    }\n",
              "</style>\n",
              "<table border=\"1\" class=\"dataframe\">\n",
              "  <thead>\n",
              "    <tr style=\"text-align: right;\">\n",
              "      <th></th>\n",
              "      <th>Name</th>\n",
              "      <th>IssuesClosed</th>\n",
              "      <th>IssuesTotal</th>\n",
              "      <th>IssuesClosed%</th>\n",
              "    </tr>\n",
              "  </thead>\n",
              "  <tbody>\n",
              "    <tr>\n",
              "      <th>265</th>\n",
              "      <td>legacy-homebrew</td>\n",
              "      <td>17038</td>\n",
              "      <td>17038</td>\n",
              "      <td>100.0</td>\n",
              "    </tr>\n",
              "    <tr>\n",
              "      <th>357</th>\n",
              "      <td>awesome-react-components</td>\n",
              "      <td>36</td>\n",
              "      <td>36</td>\n",
              "      <td>100.0</td>\n",
              "    </tr>\n",
              "    <tr>\n",
              "      <th>824</th>\n",
              "      <td>react-demos</td>\n",
              "      <td>28</td>\n",
              "      <td>28</td>\n",
              "      <td>100.0</td>\n",
              "    </tr>\n",
              "    <tr>\n",
              "      <th>664</th>\n",
              "      <td>jstraining</td>\n",
              "      <td>41</td>\n",
              "      <td>41</td>\n",
              "      <td>100.0</td>\n",
              "    </tr>\n",
              "    <tr>\n",
              "      <th>143</th>\n",
              "      <td>awesome-nodejs</td>\n",
              "      <td>90</td>\n",
              "      <td>90</td>\n",
              "      <td>100.0</td>\n",
              "    </tr>\n",
              "    <tr>\n",
              "      <th>836</th>\n",
              "      <td>SwiftGuide</td>\n",
              "      <td>27</td>\n",
              "      <td>27</td>\n",
              "      <td>100.0</td>\n",
              "    </tr>\n",
              "    <tr>\n",
              "      <th>771</th>\n",
              "      <td>awesome-tensorflow</td>\n",
              "      <td>10</td>\n",
              "      <td>10</td>\n",
              "      <td>100.0</td>\n",
              "    </tr>\n",
              "    <tr>\n",
              "      <th>167</th>\n",
              "      <td>awesome-ios</td>\n",
              "      <td>433</td>\n",
              "      <td>433</td>\n",
              "      <td>100.0</td>\n",
              "    </tr>\n",
              "    <tr>\n",
              "      <th>631</th>\n",
              "      <td>ipfs</td>\n",
              "      <td>202</td>\n",
              "      <td>202</td>\n",
              "      <td>100.0</td>\n",
              "    </tr>\n",
              "    <tr>\n",
              "      <th>49</th>\n",
              "      <td>30-seconds-of-code</td>\n",
              "      <td>258</td>\n",
              "      <td>258</td>\n",
              "      <td>100.0</td>\n",
              "    </tr>\n",
              "    <tr>\n",
              "      <th>350</th>\n",
              "      <td>fetch</td>\n",
              "      <td>521</td>\n",
              "      <td>521</td>\n",
              "      <td>100.0</td>\n",
              "    </tr>\n",
              "    <tr>\n",
              "      <th>510</th>\n",
              "      <td>design-resources-for-developers</td>\n",
              "      <td>42</td>\n",
              "      <td>42</td>\n",
              "      <td>100.0</td>\n",
              "    </tr>\n",
              "    <tr>\n",
              "      <th>519</th>\n",
              "      <td>awesome-swift</td>\n",
              "      <td>111</td>\n",
              "      <td>111</td>\n",
              "      <td>100.0</td>\n",
              "    </tr>\n",
              "    <tr>\n",
              "      <th>329</th>\n",
              "      <td>open-source-ios-apps</td>\n",
              "      <td>215</td>\n",
              "      <td>215</td>\n",
              "      <td>100.0</td>\n",
              "    </tr>\n",
              "    <tr>\n",
              "      <th>327</th>\n",
              "      <td>basics</td>\n",
              "      <td>19</td>\n",
              "      <td>19</td>\n",
              "      <td>100.0</td>\n",
              "    </tr>\n",
              "    <tr>\n",
              "      <th>558</th>\n",
              "      <td>RxAndroid</td>\n",
              "      <td>338</td>\n",
              "      <td>338</td>\n",
              "      <td>100.0</td>\n",
              "    </tr>\n",
              "    <tr>\n",
              "      <th>483</th>\n",
              "      <td>Awesome-Design-Tools</td>\n",
              "      <td>25</td>\n",
              "      <td>25</td>\n",
              "      <td>100.0</td>\n",
              "    </tr>\n",
              "    <tr>\n",
              "      <th>900</th>\n",
              "      <td>professional-programming</td>\n",
              "      <td>9</td>\n",
              "      <td>9</td>\n",
              "      <td>100.0</td>\n",
              "    </tr>\n",
              "    <tr>\n",
              "      <th>872</th>\n",
              "      <td>ToolsOfTheTrade</td>\n",
              "      <td>38</td>\n",
              "      <td>38</td>\n",
              "      <td>100.0</td>\n",
              "    </tr>\n",
              "    <tr>\n",
              "      <th>864</th>\n",
              "      <td>TensorFlow-Course</td>\n",
              "      <td>11</td>\n",
              "      <td>11</td>\n",
              "      <td>100.0</td>\n",
              "    </tr>\n",
              "  </tbody>\n",
              "</table>\n",
              "</div>"
            ],
            "text/plain": [
              "                                Name  IssuesClosed  IssuesTotal  IssuesClosed%\n",
              "265                  legacy-homebrew         17038        17038          100.0\n",
              "357         awesome-react-components            36           36          100.0\n",
              "824                      react-demos            28           28          100.0\n",
              "664                       jstraining            41           41          100.0\n",
              "143                   awesome-nodejs            90           90          100.0\n",
              "836                       SwiftGuide            27           27          100.0\n",
              "771               awesome-tensorflow            10           10          100.0\n",
              "167                      awesome-ios           433          433          100.0\n",
              "631                             ipfs           202          202          100.0\n",
              "49                30-seconds-of-code           258          258          100.0\n",
              "350                            fetch           521          521          100.0\n",
              "510  design-resources-for-developers            42           42          100.0\n",
              "519                    awesome-swift           111          111          100.0\n",
              "329             open-source-ios-apps           215          215          100.0\n",
              "327                           basics            19           19          100.0\n",
              "558                        RxAndroid           338          338          100.0\n",
              "483             Awesome-Design-Tools            25           25          100.0\n",
              "900         professional-programming             9            9          100.0\n",
              "872                  ToolsOfTheTrade            38           38          100.0\n",
              "864                TensorFlow-Course            11           11          100.0"
            ]
          },
          "metadata": {
            "tags": []
          },
          "execution_count": 291
        }
      ]
    },
    {
      "cell_type": "code",
      "metadata": {
        "id": "KG2tWlebudqn",
        "outputId": "deafb777-872f-48fb-9866-f1d1d5c96f83",
        "colab": {
          "base_uri": "https://localhost:8080/",
          "height": 387
        }
      },
      "source": [
        "sns.catplot(x=\"Name\", y=\"IssuesClosed%\", data = issues_percent, kind=\"swarm\", aspect=2, palette=\"magma\")"
      ],
      "execution_count": 314,
      "outputs": [
        {
          "output_type": "execute_result",
          "data": {
            "text/plain": [
              "<seaborn.axisgrid.FacetGrid at 0x7fdc083be908>"
            ]
          },
          "metadata": {
            "tags": []
          },
          "execution_count": 314
        },
        {
          "output_type": "display_data",
          "data": {
            "image/png": "[encoded data removed]",
            "text/plain": [
              "<Figure size 720x360 with 1 Axes>"
            ]
          },
          "metadata": {
            "tags": [],
            "needs_background": "light"
          }
        }
      ]
    }
  ]
}